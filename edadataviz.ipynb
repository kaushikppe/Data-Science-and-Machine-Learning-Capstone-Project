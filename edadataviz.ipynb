{
  "metadata": {
    "kernelspec": {
      "name": "python",
      "display_name": "Python (Pyodide)",
      "language": "python"
    },
    "language_info": {
      "codemirror_mode": {
        "name": "python",
        "version": 3
      },
      "file_extension": ".py",
      "mimetype": "text/x-python",
      "name": "python",
      "nbconvert_exporter": "python",
      "pygments_lexer": "ipython3",
      "version": "3.8"
    },
    "prev_pub_hash": "0c470061d7abae1632b4f11c1561e6cfda5dface0e860d070afade5beb8bfaed"
  },
  "nbformat_minor": 4,
  "nbformat": 4,
  "cells": [
    {
      "cell_type": "markdown",
      "source": "<p style=\"text-align:center\">\n    <a href=\"https://skills.network/?utm_medium=Exinfluencer&utm_source=Exinfluencer&utm_content=000026UJ&utm_term=10006555&utm_id=NA-SkillsNetwork-Channel-SkillsNetworkCoursesIBMDS0321ENSkillsNetwork26802033-2022-01-01\" target=\"_blank\">\n    <img src=\"https://cf-courses-data.s3.us.cloud-object-storage.appdomain.cloud/assets/logos/SN_web_lightmode.png\" width=\"200\" alt=\"Skills Network Logo\">\n    </a>\n</p>\n",
      "metadata": {}
    },
    {
      "cell_type": "markdown",
      "source": "# **SpaceX  Falcon 9 First Stage Landing Prediction**\n",
      "metadata": {}
    },
    {
      "cell_type": "markdown",
      "source": "## Assignment: Exploring and Preparing Data\n",
      "metadata": {}
    },
    {
      "cell_type": "markdown",
      "source": "Estimated time needed: **70** minutes\n",
      "metadata": {}
    },
    {
      "cell_type": "markdown",
      "source": "In this assignment, we will predict if the Falcon 9 first stage will land successfully. SpaceX advertises Falcon 9 rocket launches on its website with a cost of 62 million dollars; other providers cost upward of 165 million dollars each, much of the savings is due to the fact that SpaceX can reuse the first stage.\n\nIn this lab, you will perform Exploratory Data Analysis and Feature Engineering.\n",
      "metadata": {}
    },
    {
      "cell_type": "markdown",
      "source": "Falcon 9 first stage will land successfully\n",
      "metadata": {}
    },
    {
      "cell_type": "markdown",
      "source": "![](https://cf-courses-data.s3.us.cloud-object-storage.appdomain.cloud/IBMDeveloperSkillsNetwork-DS0701EN-SkillsNetwork/api/Images/landing_1.gif)\n",
      "metadata": {}
    },
    {
      "cell_type": "markdown",
      "source": "Several examples of an unsuccessful landing are shown here:\n",
      "metadata": {}
    },
    {
      "cell_type": "markdown",
      "source": "![](https://cf-courses-data.s3.us.cloud-object-storage.appdomain.cloud/IBMDeveloperSkillsNetwork-DS0701EN-SkillsNetwork/api/Images/crash.gif)\n",
      "metadata": {}
    },
    {
      "cell_type": "markdown",
      "source": "Most unsuccessful landings are planned. Space X performs a controlled landing in the oceans.\n",
      "metadata": {}
    },
    {
      "cell_type": "markdown",
      "source": "## Objectives\n\nPerform exploratory Data Analysis and Feature Engineering using `Pandas` and `Matplotlib`\n\n*   Exploratory Data Analysis\n*   Preparing Data  Feature Engineering\n",
      "metadata": {}
    },
    {
      "cell_type": "markdown",
      "source": "### Import Libraries and Define Auxiliary Functions\n",
      "metadata": {}
    },
    {
      "cell_type": "markdown",
      "source": "We will import the following libraries the lab\n",
      "metadata": {}
    },
    {
      "cell_type": "code",
      "source": "import piplite\nawait piplite.install(['numpy'])\nawait piplite.install(['pandas'])\nawait piplite.install(['seaborn'])",
      "metadata": {},
      "outputs": [],
      "execution_count": null
    },
    {
      "cell_type": "code",
      "source": "# pandas is a software library written for the Python programming language for data manipulation and analysis.\nimport pandas as pd\n#NumPy is a library for the Python programming language, adding support for large, multi-dimensional arrays and matrices, along with a large collection of high-level mathematical functions to operate on these arrays\nimport numpy as np\n# Matplotlib is a plotting library for python and pyplot gives us a MatLab like plotting framework. We will use this in our plotter function to plot data.\nimport matplotlib.pyplot as plt\n#Seaborn is a Python data visualization library based on matplotlib. It provides a high-level interface for drawing attractive and informative statistical graphics\nimport seaborn as sns",
      "metadata": {},
      "outputs": [],
      "execution_count": null
    },
    {
      "cell_type": "markdown",
      "source": "## Exploratory Data Analysis\n",
      "metadata": {}
    },
    {
      "cell_type": "markdown",
      "source": "First, let's read the SpaceX dataset into a Pandas dataframe and print its summary\n",
      "metadata": {}
    },
    {
      "cell_type": "code",
      "source": "from js import fetch\nimport io\n\nURL = \"https://cf-courses-data.s3.us.cloud-object-storage.appdomain.cloud/IBM-DS0321EN-SkillsNetwork/datasets/dataset_part_2.csv\"\nresp = await fetch(URL)\ndataset_part_2_csv = io.BytesIO((await resp.arrayBuffer()).to_py())\ndf=pd.read_csv(dataset_part_2_csv)\ndf.head(5)",
      "metadata": {},
      "outputs": [],
      "execution_count": null
    },
    {
      "cell_type": "markdown",
      "source": "First, let's try to see how the `FlightNumber` (indicating the continuous launch attempts.) and `Payload` variables would affect the launch outcome.\n\nWe can plot out the <code>FlightNumber</code> vs. <code>PayloadMass</code>and overlay the outcome of the launch. We see that as the flight number increases, the first stage is more likely to land successfully. The payload mass also appears to be a factor; even with more massive payloads, the first stage often returns successfully.\n",
      "metadata": {}
    },
    {
      "cell_type": "code",
      "source": "sns.catplot(y=\"PayloadMass\", x=\"FlightNumber\", hue=\"Class\", data=df, aspect = 5)\nplt.xlabel(\"Flight Number\",fontsize=20)\nplt.ylabel(\"Pay load Mass (kg)\",fontsize=20)\nplt.show()",
      "metadata": {},
      "outputs": [],
      "execution_count": null
    },
    {
      "cell_type": "markdown",
      "source": "Next, let's drill down to each site visualize its detailed launch records.\n",
      "metadata": {}
    },
    {
      "cell_type": "markdown",
      "source": "### TASK 1: Visualize the relationship between Flight Number and Launch Site\n",
      "metadata": {}
    },
    {
      "cell_type": "markdown",
      "source": "Use the function <code>catplot</code> to plot <code>FlightNumber</code> vs <code>LaunchSite</code>, set the  parameter <code>x</code>  parameter to <code>FlightNumber</code>,set the  <code>y</code> to <code>Launch Site</code> and set the parameter <code>hue</code> to <code>'class'</code>\n",
      "metadata": {}
    },
    {
      "cell_type": "code",
      "source": "import seaborn as sns\nimport matplotlib.pyplot as plt\n\n# Create a scatter plot with Seaborn catplot\nsns.catplot(\n    x=\"FlightNumber\",       # X-axis: Flight Number\n    y=\"LaunchSite\",         # Y-axis: Launch Site\n    hue=\"Class\",            # Hue: Class (success or failure)\n    data=df,                # Data source\n    aspect=2,               # Stretch the plot horizontally\n    kind=\"strip\"            # Scatter plot style\n)\n\n# Customize the plot\nplt.xlabel(\"Flight Number\", fontsize=15)\nplt.ylabel(\"Launch Site\", fontsize=15)\nplt.title(\"Flight Number vs. Launch Site\", fontsize=18)\nplt.show()\n#Early launches were concentrated at CCAFS SLC-40 with mixed outcomes.\n#KSC LC-39A becomes a key site for more reliable and frequent successful launches in later flights.\n#SpaceX shows a clear progression of learning and operational efficiency as FlightNumber increases, with more consistent successes across all launch sites.",
      "metadata": {},
      "outputs": [],
      "execution_count": null
    },
    {
      "cell_type": "markdown",
      "source": "Now try to explain the patterns you found in the Flight Number vs. Launch Site scatter point plots.\n",
      "metadata": {}
    },
    {
      "cell_type": "markdown",
      "source": "### TASK 2: Visualize the relationship between Payload Mass and Launch Site\n",
      "metadata": {}
    },
    {
      "cell_type": "markdown",
      "source": "We also want to observe if there is any relationship between launch sites and their payload mass.\n",
      "metadata": {}
    },
    {
      "cell_type": "code",
      "source": "import seaborn as sns\nimport matplotlib.pyplot as plt\n\n# Create a scatter plot with Seaborn catplot\nsns.catplot(\n    x=\"PayloadMass\",       # X-axis: Payload Mass (kg)\n    y=\"LaunchSite\",        # Y-axis: Launch Site\n    hue=\"Class\",           # Hue: Class (success or failure)\n    data=df,               # Data source\n    aspect=2,              # Stretch the plot horizontally\n    kind=\"strip\"           # Scatter plot style\n)\n\n# Customize the plot\nplt.xlabel(\"Payload Mass (kg)\", fontsize=15)\nplt.ylabel(\"Launch Site\", fontsize=15)\nplt.title(\"Payload Mass vs. Launch Site\", fontsize=18)\nplt.show()\n#VAFB SLC-4E: No heavy payloads (>10,000 kg) are launched from this site, indicating its specialization in light-to-medium payload missions.\n#KSC LC-39A: Dominates heavy payload launches, with a high success rate.\n#CCAFS SLC-40: Shows versatility, handling a wide range of payload masses.# Plot a scatter point chart with x axis to be Pay Load Mass (kg) and y axis to be the launch site, and hue to be the class value",
      "metadata": {},
      "outputs": [],
      "execution_count": null
    },
    {
      "cell_type": "markdown",
      "source": "Now if you observe Payload Mass Vs. Launch Site scatter point chart you will find for the VAFB-SLC  launchsite there are no  rockets  launched for  heavypayload mass(greater than 10000).\n",
      "metadata": {}
    },
    {
      "cell_type": "markdown",
      "source": "### TASK  3: Visualize the relationship between success rate of each orbit type\n",
      "metadata": {}
    },
    {
      "cell_type": "markdown",
      "source": "Next, we want to visually check if there are any relationship between success rate and orbit type.\n",
      "metadata": {}
    },
    {
      "cell_type": "markdown",
      "source": "Let's create a `bar chart` for the sucess rate of each orbit\n",
      "metadata": {}
    },
    {
      "cell_type": "code",
      "source": "# Import required libraries\nimport seaborn as sns\nimport matplotlib.pyplot as plt\n\n# Group the data by Orbit and calculate the mean success rate for each orbit type\norbit_success_rate = df.groupby('Orbit')['Class'].mean().reset_index()\n\n# Sort the values by success rate for better visualization\norbit_success_rate = orbit_success_rate.sort_values(by='Class', ascending=False)\n\n# Create a bar plot to visualize the success rate for each Orbit\nsns.barplot(x='Class', y='Orbit', data=orbit_success_rate, palette='Blues_d')\n\n# Customize the plot\nplt.xlabel(\"Success Rate\", fontsize=15)\nplt.ylabel(\"Orbit Type\", fontsize=15)\nplt.title(\"Success Rate for Each Orbit Type\", fontsize=18)\nplt.show()\n\n# Group by Orbit and calculate the success rate (mean of Class)\norbit_success_rate = df.groupby('Orbit')['Class'].mean()\n\n# Plot the bar chart\nplt.figure(figsize=(10, 6))\norbit_success_rate.plot(kind='bar', color='skyblue')\n\n# Customize the plot\nplt.title(\"Success Rate by Orbit Type\", fontsize=18)\nplt.xlabel(\"Orbit Type\", fontsize=14)\nplt.ylabel(\"Success Rate\", fontsize=14)\nplt.xticks(rotation=45, ha=\"right\")\nplt.show()\n#ES-L1,GEO,HEO,SSO has highest success rates",
      "metadata": {},
      "outputs": [],
      "execution_count": null
    },
    {
      "cell_type": "markdown",
      "source": "Analyze the plotted bar chart to identify which orbits have the highest success rates.\n",
      "metadata": {}
    },
    {
      "cell_type": "markdown",
      "source": "### TASK  4: Visualize the relationship between FlightNumber and Orbit type\n",
      "metadata": {}
    },
    {
      "cell_type": "markdown",
      "source": "For each orbit, we want to see if there is any relationship between FlightNumber and Orbit type.\n",
      "metadata": {}
    },
    {
      "cell_type": "code",
      "source": "import pandas as pd\nimport seaborn as sns\nimport matplotlib.pyplot as plt\n\nsns.scatterplot(\n    data=df, \n    x='FlightNumber', \n    y='Orbit', \n    hue='Class', \n    palette={0: \"red\", 1: \"green\"},  # Explicit mapping: 0 -> red, 1 -> green\n    s=100\n)\n\n# Add labels and title\nplt.xlabel(\"Flight Number\", fontsize=14)\nplt.ylabel(\"Orbit Type\", fontsize=14)\nplt.title(\"Flight Number vs Orbit Type (Class)\", fontsize=16)\nplt.legend(title='Class', loc='upper right', labels=['Failure', 'Success'])\nplt.grid(True)\nplt.show()\n\n#The relationship between FlightNumber and Orbit type highlights that the LEO orbit benefits from accumulated experience and technology iteration.\n#For GTO and possibly other orbits, success rates might rely more on mission-specific variables rather than the cumulative experience of launches.# Plot a scatter point chart with x axis to be FlightNumber and y axis to be the Orbit, and hue to be the class value",
      "metadata": {},
      "outputs": [],
      "execution_count": null
    },
    {
      "cell_type": "markdown",
      "source": "You can observe that in the LEO orbit, success seems to be related to the number of flights. Conversely, in the GTO orbit, there appears to be no relationship between flight number and success.\n",
      "metadata": {}
    },
    {
      "cell_type": "markdown",
      "source": "### TASK  5: Visualize the relationship between Payload Mass and Orbit type\n",
      "metadata": {}
    },
    {
      "cell_type": "markdown",
      "source": "Similarly, we can plot the Payload Mass vs. Orbit scatter point charts to reveal the relationship between Payload Mass and Orbit type\n",
      "metadata": {}
    },
    {
      "cell_type": "code",
      "source": "import seaborn as sns\nimport matplotlib.pyplot as plt\n\n# Scatter plot for Payload Mass vs. Orbit Type\nsns.scatterplot(\n    data=df, \n    x='PayloadMass', \n    y='Orbit', \n    hue='Class', \n    palette={0: \"red\", 1: \"green\"},  # 0: Failure (red), 1: Success (green)\n    s=100\n)\n\n# Add labels and title\nplt.xlabel(\"Payload Mass (kg)\", fontsize=14)\nplt.ylabel(\"Orbit Type\", fontsize=14)\nplt.title(\"Payload Mass vs Orbit Type (Class)\", fontsize=16)\nplt.legend(title='Class', loc='upper right', labels=['Failure', 'Success'])\nplt.grid(True)\nplt.show()\n\n#Polar, LEO, and ISS orbits show a clear trend: heavier payloads correlate with higher success rates.\n#GTO orbit appears less predictable, with no clear relationship between payload mass and success.",
      "metadata": {},
      "outputs": [],
      "execution_count": null
    },
    {
      "cell_type": "markdown",
      "source": "With heavy payloads the successful landing or positive landing rate are more for Polar,LEO and ISS.\n\nHowever, for GTO, it's difficult to distinguish between successful and unsuccessful landings as both outcomes are present.\n",
      "metadata": {}
    },
    {
      "cell_type": "markdown",
      "source": "### TASK  6: Visualize the launch success yearly trend\n",
      "metadata": {}
    },
    {
      "cell_type": "markdown",
      "source": "You can plot a line chart with x axis to be <code>Year</code> and y axis to be average success rate, to get the average launch success trend.\n",
      "metadata": {}
    },
    {
      "cell_type": "markdown",
      "source": "The function will help you get the year from the date:\n",
      "metadata": {}
    },
    {
      "cell_type": "code",
      "source": "# A function to Extract years from the date \nyear=[]\ndef Extract_year():\n    for i in df[\"Date\"]:\n        year.append(i.split(\"-\")[0])\n    return year\nExtract_year()\ndf['Date'] = year\ndf.head()\n    ",
      "metadata": {},
      "outputs": [],
      "execution_count": null
    },
    {
      "cell_type": "code",
      "source": "# Function to extract years from the date\ndef Extract_year():\n    year = []\n    for i in df[\"Date\"]:\n        year.append(i.split(\"-\")[0])  # Extract the year part from the date string\n    return year\n\n# Apply the function and create a 'Year' column\ndf['Year'] = Extract_year()\n\n# Group by 'Year' and calculate the average success rate\nyearly_success_rate = df.groupby('Year')['Class'].mean().reset_index()\n\n# Rename columns for clarity\nyearly_success_rate.rename(columns={'Class': 'SuccessRate'}, inplace=True)\n\n# Convert 'Year' to integer for proper plotting\nyearly_success_rate['Year'] = yearly_success_rate['Year'].astype(int)\n\n# Plot the line chart\nplt.figure(figsize=(10, 6))\nsns.lineplot(data=yearly_success_rate, x='Year', y='SuccessRate', marker='o', color='blue')\n\n# Add labels and title\nplt.xlabel(\"Year\", fontsize=14)\nplt.ylabel(\"Average Success Rate\", fontsize=14)\nplt.title(\"Yearly Launch Success Trend\", fontsize=16)\nplt.xticks(yearly_success_rate['Year'], rotation=45)\nplt.grid(True)\nplt.show()\n",
      "metadata": {},
      "outputs": [],
      "execution_count": null
    },
    {
      "cell_type": "markdown",
      "source": "you can observe that the sucess rate since 2013 kept increasing till 2020\n",
      "metadata": {}
    },
    {
      "cell_type": "markdown",
      "source": "## Features Engineering\n",
      "metadata": {}
    },
    {
      "cell_type": "markdown",
      "source": "By now, you should obtain some preliminary insights about how each important variable would affect the success rate, we will select the features that will be used in success prediction in the future module.\n",
      "metadata": {}
    },
    {
      "cell_type": "code",
      "source": "features = df[['FlightNumber', 'PayloadMass', 'Orbit', 'LaunchSite', 'Flights', 'GridFins', 'Reused', 'Legs', 'LandingPad', 'Block', 'ReusedCount', 'Serial']]\nfeatures.head()",
      "metadata": {},
      "outputs": [],
      "execution_count": null
    },
    {
      "cell_type": "markdown",
      "source": "### TASK  7: Create dummy variables to categorical columns\n",
      "metadata": {}
    },
    {
      "cell_type": "markdown",
      "source": "Use the function <code>get_dummies</code> and <code>features</code> dataframe to apply OneHotEncoder to the column <code>Orbits</code>, <code>LaunchSite</code>, <code>LandingPad</code>, and <code>Serial</code>. Assign the value to the variable <code>features_one_hot</code>, display the results using the method head. Your result dataframe must include all features including the encoded ones.\n",
      "metadata": {}
    },
    {
      "cell_type": "code",
      "source": "features = df[['FlightNumber', 'PayloadMass', 'Orbit', 'LaunchSite', 'Flights', \n               'GridFins', 'Reused', 'Legs', 'LandingPad', 'Block', \n               'ReusedCount', 'Serial']]\n\n# Apply one-hot encoding to categorical columns\nfeatures_one_hot = pd.get_dummies(\n    features, \n    columns=['Orbit', 'LaunchSite', 'LandingPad', 'Serial']\n)\n\n# Display the first few rows of the new dataframe\nfeatures_one_hot.head()\nprint(features_one_hot.columns)\nprint(features_one_hot.shape)",
      "metadata": {},
      "outputs": [],
      "execution_count": null
    },
    {
      "cell_type": "markdown",
      "source": "### TASK  8: Cast all numeric columns to `float64`\n",
      "metadata": {}
    },
    {
      "cell_type": "markdown",
      "source": "Now that our <code>features_one_hot</code> dataframe only contains numbers, cast the entire dataframe to variable type <code>float64</code>\n",
      "metadata": {}
    },
    {
      "cell_type": "code",
      "source": "features_one_hot = features_one_hot.astype('float64')\n\n# Export the dataframe to a CSV file for use in the next lab\nfeatures_one_hot.to_csv('dataset_part_3.csv', index=False)\n\n# Confirm the data type conversion\nprint(features_one_hot.dtypes)\n",
      "metadata": {},
      "outputs": [],
      "execution_count": null
    },
    {
      "cell_type": "markdown",
      "source": "We can now export it to a <b>CSV</b> for the next section,but to make the answers consistent, in the next lab we will provide data in a pre-selected date range.\n",
      "metadata": {}
    },
    {
      "cell_type": "markdown",
      "source": "<code>features_one_hot.to_csv('dataset_part\\_3.csv', index=False)</code>\n",
      "metadata": {}
    },
    {
      "cell_type": "markdown",
      "source": "## Authors\n",
      "metadata": {}
    },
    {
      "cell_type": "markdown",
      "source": "[Pratiksha Verma](https://www.linkedin.com/in/pratiksha-verma-6487561b1/)\n",
      "metadata": {}
    },
    {
      "cell_type": "markdown",
      "source": "<!--## Change Log-->\n",
      "metadata": {}
    },
    {
      "cell_type": "markdown",
      "source": "<!--\n| Date (YYYY-MM-DD) | Version | Changed By      | Change Description      |\n| ----------------- | ------- | -------------   | ----------------------- |\n| 2022-11-09        | 1.0     | Pratiksha Verma | Converted initial version to Jupyterlite|\n| 2024-07-18        | 1.2     | Anita Verma | Clarified instructions|\n-->\n",
      "metadata": {}
    },
    {
      "cell_type": "markdown",
      "source": "### <h3 align=\"center\"> IBM Corporation 2022. All rights reserved. <h3/>\n",
      "metadata": {}
    }
  ]
}